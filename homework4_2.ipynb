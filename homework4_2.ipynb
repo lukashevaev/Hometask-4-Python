{
 "cells": [
  {
   "cell_type": "markdown",
   "metadata": {},
   "source": [
    "# Вариант 17. 4_2\n",
    "\n",
    "Особь – битовая последовательность размера n (кол-во грузов)\n",
    "Кол-во особей всегда = 200\n",
    "\n",
    "Начальная популяция: 1.1 случайная генерация\n",
    "\n",
    "Отбор: 2.2 выбрать только 20% самых приспособленных особей\n",
    "\n",
    "Скрещивание: 3.2 однородный (каждый бит от случайно выбранного родителя)\n",
    "\n",
    "Мутация: 4.2 случайное изменение 3х битов у 5% особей\n",
    "\n",
    "Новая популяция: 5.2 «штраф» за «старость» - 10% функции приспособленности, выбор лучших\n",
    "\n",
    "Оценка результата: Наступила сходимость (функция приспособленности лучшей особи в популяциях отличается не более, чем на стоимость самой дешевой вещи) или прошло 500 поколений"
   ]
  },
  {
   "cell_type": "markdown",
   "metadata": {},
   "source": [
    "Вытаскиваем нужные данные из файла"
   ]
  },
  {
   "cell_type": "code",
   "execution_count": 1,
   "metadata": {},
   "outputs": [
    {
     "name": "stdout",
     "output_type": "stream",
     "text": [
      "[[13000.0, 12.0], [853.0, 0.8, 145.0], [945.0, 0.8, 236.0], [602.0, 1.1, 374.0], [1571.0, 0.7, 115.0], [1446.0, 0.5, 297.0], [1015.0, 0.4, 124.0], [154.0, 0.7, 308.0], [1688.0, 0.4, 214.0], [133.0, 0.5, 234.0], [856.0, 0.6, 238.0], [864.0, 0.4, 244.0], [1474.0, 0.7, 321.0], [1078.0, 0.9, 127.0], [174.0, 0.9, 297.0], [1045.0, 0.6, 211.0], [740.0, 1.0, 317.0], [950.0, 1.0, 212.0], [145.0, 0.9, 161.0], [1192.0, 1.2, 289.0], [1192.0, 1.0, 120.0], [1240.0, 1.1, 213.0], [579.0, 0.4, 229.0], [1278.0, 0.5, 351.0], [1112.0, 1.1, 173.0], [579.0, 0.6, 121.0], [1149.0, 1.2, 384.0], [776.0, 0.9, 143.0], [214.0, 0.6, 221.0], [893.0, 0.9, 280.0], [698.0, 1.2, 350.0]] \n",
      "\n",
      "[145.0, 236.0, 374.0, 115.0, 297.0, 124.0, 308.0, 214.0, 234.0, 238.0, 244.0, 321.0, 127.0, 297.0, 211.0, 317.0, 212.0, 161.0, 289.0, 120.0, 213.0, 229.0, 351.0, 173.0, 121.0, 384.0, 143.0, 221.0, 280.0, 350.0]\n"
     ]
    }
   ],
   "source": [
    "import numpy as np\n",
    "import pandas as pd\n",
    "import random as rd\n",
    "from random import randint\n",
    "from prettytable import PrettyTable\n",
    "\n",
    "myList=[]\n",
    "with open('17.txt') as f:\n",
    "    for line in f:\n",
    "        myList.append([float(x) for x in line.split()])\n",
    "lngth=len(myList)\n",
    "\n",
    "maxWeight=myList[0][0]\n",
    "maxSize=myList[0][1]\n",
    "\n",
    "value=[]\n",
    "size=[]\n",
    "weight=[]\n",
    "\n",
    "for i in range (1,lngth):\n",
    "    #ценность\n",
    "    value.append(myList[i][2])\n",
    "    #размер\n",
    "    size.append(myList[i][1])\n",
    "    #вес\n",
    "    weight.append(myList[i][0])\n",
    "item_list = np.zeros((len(weight),3))\n",
    "\n",
    "print(myList,'\\n')\n",
    "print(value)"
   ]
  },
  {
   "cell_type": "code",
   "execution_count": 2,
   "metadata": {},
   "outputs": [],
   "source": [
    "numGenes = len(myList)-1\n",
    "numInd=200"
   ]
  },
  {
   "attachments": {
    "image.png": {
     "image/png": "[encoded data removed]"
    }
   },
   "cell_type": "markdown",
   "metadata": {},
   "source": [
    "Функции для проверки ограничений\n",
    "\n",
    "![image.png](attachment:image.png)"
   ]
  },
  {
   "cell_type": "code",
   "execution_count": 3,
   "metadata": {},
   "outputs": [],
   "source": [
    "def weight_checking(individual):\n",
    "    sumWeight=0\n",
    "    for i in range(numGenes):\n",
    "        sumWeight += individual[i] * weight[i]\n",
    "    if sumWeight > maxWeight:\n",
    "        return 0\n",
    "    else: \n",
    "        return sumWeight\n",
    "\n",
    "def size_checking(individual):\n",
    "    sumSize=0\n",
    "    for i in range(numGenes):\n",
    "        sumSize += individual[i] * size[i]\n",
    "    if sumSize > maxSize:\n",
    "        return 0\n",
    "    else: \n",
    "        return sumSize   \n"
   ]
  },
  {
   "cell_type": "markdown",
   "metadata": {},
   "source": [
    "Начальная популяция: 1.1 случайная генерация"
   ]
  },
  {
   "cell_type": "code",
   "execution_count": 4,
   "metadata": {},
   "outputs": [],
   "source": [
    "def creation_of_individual():\n",
    "    individual = [rd.randint(0, 1) for x in range(numGenes)]\n",
    "    while not (size_checking(individual) and weight_checking(individual)):\n",
    "        individual = [rd.randint(0, 1) for x in range(numGenes)]\n",
    "    return individual\n",
    "\n",
    "\n",
    "def creation_of_population():\n",
    "    initial_population=[]\n",
    "    for x in range(numInd):\n",
    "        initial_population.append(creation_of_individual())\n",
    "    return initial_population"
   ]
  },
  {
   "attachments": {
    "image.png": {
     "image/png": "[encoded data removed]"
    }
   },
   "cell_type": "markdown",
   "metadata": {},
   "source": [
    "Поиск ценности каждой особи\n",
    "\n",
    "![image.png](attachment:image.png)"
   ]
  },
  {
   "cell_type": "code",
   "execution_count": 5,
   "metadata": {},
   "outputs": [],
   "source": [
    "def sum_of_value(individual):\n",
    "    sumValue=0\n",
    "    for i in range(numGenes):\n",
    "        sumValue+=individual[i]*value[i]\n",
    "    return sumValue"
   ]
  },
  {
   "cell_type": "markdown",
   "metadata": {},
   "source": [
    "Отбор: 2.2 выбрать только 20% самых приспособленных особей\n",
    "\n",
    "Те, у кого ценность выше"
   ]
  },
  {
   "cell_type": "markdown",
   "metadata": {},
   "source": [
    "Скрещивание: 3.2 однородный (каждый бит от случайно выбранного родителя)"
   ]
  },
  {
   "cell_type": "code",
   "execution_count": 6,
   "metadata": {},
   "outputs": [],
   "source": [
    "def crossingover(chosen):\n",
    "    population_of_children = []\n",
    "    lngth = len(chosen) - 1\n",
    "    \n",
    "    for i in range(lngth,0,-1):\n",
    "        child = []\n",
    "        individual = creation_of_individual()\n",
    "        \n",
    "        first_parent_index = rd.randint(0, i)\n",
    "        i = i-1\n",
    "        second_parent_index = rd.randint(0, i)\n",
    "\n",
    "        first_parent = chosen[first_parent_index]        \n",
    "        second_parent = chosen[second_parent_index]\n",
    "\n",
    "        for i in range(len(individual)):\n",
    "            if individual[i] == 0:\n",
    "                child.append(first_parent[i])\n",
    "            else:\n",
    "                child.append(second_parent[i])\n",
    "\n",
    "        population_of_children.append(child)\n",
    "                \n",
    "    return population_of_children\n"
   ]
  },
  {
   "cell_type": "markdown",
   "metadata": {},
   "source": [
    "Мутация: 4.2 случайное изменение 3х битов у 5% особей"
   ]
  },
  {
   "cell_type": "code",
   "execution_count": 7,
   "metadata": {},
   "outputs": [],
   "source": [
    "def mutation(individual):\n",
    "    gene = [randint(0, 1)]\n",
    "    numb = []\n",
    "    for x in range(0,3):\n",
    "            numb.append(np.random.randint(0,len(individual) - 1))\n",
    "    for i in numb:\n",
    "        individual[i] = 0 if individual[i] !=0 else 1\n",
    "    return individual"
   ]
  },
  {
   "cell_type": "markdown",
   "metadata": {},
   "source": [
    "Новая популяция: 5.2 «штраф» за «старость» - 10% функции приспособленности, выбор лучших\n",
    "\n",
    "Здесь нам нужно посчитать ценность старых особей и отнять 10%\n",
    "\n",
    "Дальше посчитаем общую ценность и выберем лучших"
   ]
  },
  {
   "cell_type": "code",
   "execution_count": 8,
   "metadata": {},
   "outputs": [
    {
     "name": "stdout",
     "output_type": "stream",
     "text": [
      "[2, 602.0, 1.1, 374.0]\n",
      "[4, 1446.0, 0.5, 297.0]\n",
      "[6, 154.0, 0.7, 308.0]\n",
      "[7, 1688.0, 0.4, 214.0]\n",
      "[8, 133.0, 0.5, 234.0]\n",
      "[10, 864.0, 0.4, 244.0]\n",
      "[11, 1474.0, 0.7, 321.0]\n",
      "[13, 174.0, 0.9, 297.0]\n",
      "[15, 740.0, 1.0, 317.0]\n",
      "[18, 1192.0, 1.2, 289.0]\n",
      "[21, 579.0, 0.4, 229.0]\n",
      "[22, 1278.0, 0.5, 351.0]\n",
      "[24, 579.0, 0.6, 121.0]\n",
      "[25, 1149.0, 1.2, 384.0]\n",
      "[27, 214.0, 0.6, 221.0]\n",
      "[29, 698.0, 1.2, 350.0]\n",
      "\n",
      "Грузоподъемность:12964.0 при том, что максимально:13000.0\n",
      "Вместимость:11.9 при том, что максимально:12.0\n",
      "Суммарная ценность:4551.0\n"
     ]
    }
   ],
   "source": [
    "def new_population_making(initial_population, min_cost):\n",
    "    \n",
    "    population=initial_population\n",
    "\n",
    "    #сортируем популяцию по убыванию ценности каждой особи\n",
    "    population.sort(key=lambda x: sum_of_value(x), reverse=True)\n",
    "\n",
    "    for generation in range(0,500):\n",
    "        # скрещиваем 20% лучших особей\n",
    "        new_population = []\n",
    "        for i in range (0, round(len(population) * 0.2)):\n",
    "            new_population.append(population[i])\n",
    "        population_of_children = crossingover(new_population)\n",
    "        # мутация у 5% особей\n",
    "        for i in range(0, round(len(population) * 0.05)):\n",
    "            mutation_indx = rd.randint(0, len(population) - 1)\n",
    "            population[mutation_indx] = mutation(population[mutation_indx])\n",
    "        # урезаем ценность особей на 10%\n",
    "        for individual in population:\n",
    "            individual.append(sum_of_value(individual) * 0.9)\n",
    "        # мутация у 5% особей после скрещивания\n",
    "        for i in range(0, round(len(population_of_children) * 0.05)):\n",
    "            mutation_indx = rd.randint(0, len(population_of_children) - 1)\n",
    "            population_of_children[mutation_indx] = mutation(population_of_children[mutation_indx])\n",
    "        # не трогаем ценность \"новых\" особей\n",
    "        for individual in population_of_children:\n",
    "            individual.append(sum_of_value(individual))\n",
    "        # к \"старым\" добавляем \"новых\", чтобы дальше из них выбрать лучших\n",
    "        population.extend(population_of_children)\n",
    "        # нужно, чтобы записи удовлетворяли ограничениям\n",
    "        population = list(filter(lambda x: weight_checking(x) and size_checking(x), population))\n",
    "        # опять сортируем по ценности, но уже всю новую популяцию\n",
    "        population.sort(key=lambda x: sum_of_value(x), reverse=True)\n",
    "        # Новая популяция из лучших особей(по условию 200)\n",
    "        population=population[0:200]       \n",
    "        theBest = population[0]\n",
    "\n",
    "    return theBest\n",
    "\n",
    "initial_population = creation_of_population()\n",
    "rez = new_population_making(initial_population, min(value))\n",
    "my_file = open('hw4_2.txt','w')\n",
    "initial_population = creation_of_population()\n",
    "rez = new_population_making(initial_population, min(value))\n",
    "\n",
    "sum1,sum2 = 0,0\n",
    "table = PrettyTable()\n",
    "for i in range(numGenes):\n",
    "    sum1 += rez[i] * size[i]\n",
    "    sum2 += rez[i] * weight[i]\n",
    "    if rez[i] == 1:\n",
    "        th_data = [i, weight[i], size[i],value[i]]\n",
    "        table.add_row(th_data)\n",
    "        my_file.write(str(th_data) + \"\\n\")\n",
    "        print(th_data)\n",
    "result=\"\\nГрузоподъемность:\"+ str(round(sum2,2)) + \" при том, что максимально:\" + str(maxWeight) + \"\\nВместимость:\"+ str(round(sum1,2)) + \" при том, что максимально:\" + str(maxSize) + \"\\nСуммарная ценность:\" + str(sum_of_value(rez))\n",
    "my_file.write(result)\n",
    "print(result)\n",
    "my_file.close()\n",
    "  "
   ]
  },
  {
   "cell_type": "code",
   "execution_count": null,
   "metadata": {},
   "outputs": [],
   "source": []
  }
 ],
 "metadata": {
  "kernelspec": {
   "display_name": "Python 3",
   "language": "python",
   "name": "python3"
  },
  "language_info": {
   "codemirror_mode": {
    "name": "ipython",
    "version": 3
   },
   "file_extension": ".py",
   "mimetype": "text/x-python",
   "name": "python",
   "nbconvert_exporter": "python",
   "pygments_lexer": "ipython3",
   "version": "3.8.5"
  }
 },
 "nbformat": 4,
 "nbformat_minor": 4
}
